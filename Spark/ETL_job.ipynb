{
 "cells": [
  {
   "cell_type": "code",
   "execution_count": 1,
   "metadata": {},
   "outputs": [],
   "source": [
    "import pandas as pd\n",
    "import gcsfs as gcs\n",
    "from pyspark import SparkContext\n",
    "from pyspark.sql import SQLContext"
   ]
  },
  {
   "cell_type": "code",
   "execution_count": 3,
   "metadata": {},
   "outputs": [],
   "source": [
    "#data = pd.read_csv('s3://zengageprodadminapp/crimes_sample.csv')\n",
    "data = pd.read_csv('gs://bigdatahw2/crimes_sample.csv')"
   ]
  },
  {
   "cell_type": "code",
   "execution_count": 4,
   "metadata": {},
   "outputs": [],
   "source": [
    "sc = SparkContext('local','test')\n",
    "sqlcont = SQLContext(sc)"
   ]
  },
  {
   "cell_type": "code",
   "execution_count": 5,
   "metadata": {},
   "outputs": [],
   "source": [
    "data_sc = sqlcont.createDataFrame(data)"
   ]
  },
  {
   "cell_type": "code",
   "execution_count": 6,
   "metadata": {},
   "outputs": [
    {
     "data": {
      "text/plain": [
       "DataFrame[summary: string, ID: string, Case Number: string, Date: string, Block: string, IUCR: string, Primary Type: string, Description: string, Location Description: string, Beat: string, District: string, Ward: string, Community Area: string, FBI Code: string, X Coordinate: string, Y Coordinate: string, Year: string, Updated On: string, Latitude: string, Longitude: string, Location: string]"
      ]
     },
     "execution_count": 6,
     "metadata": {},
     "output_type": "execute_result"
    }
   ],
   "source": [
    "data_sc.describe()"
   ]
  },
  {
   "cell_type": "code",
   "execution_count": 11,
   "metadata": {},
   "outputs": [],
   "source": [
    "data_2007 = data_sc[data_sc['Year']==2007]"
   ]
  },
  {
   "cell_type": "code",
   "execution_count": 12,
   "metadata": {},
   "outputs": [
    {
     "data": {
      "text/plain": [
       "DataFrame[summary: string, ID: string, Case Number: string, Date: string, Block: string, IUCR: string, Primary Type: string, Description: string, Location Description: string, Beat: string, District: string, Ward: string, Community Area: string, FBI Code: string, X Coordinate: string, Y Coordinate: string, Year: string, Updated On: string, Latitude: string, Longitude: string, Location: string]"
      ]
     },
     "execution_count": 12,
     "metadata": {},
     "output_type": "execute_result"
    }
   ],
   "source": [
    "data_2007.describe()"
   ]
  },
  {
   "cell_type": "code",
   "execution_count": 27,
   "metadata": {},
   "outputs": [],
   "source": [
    "crime_table_data = data_2007.groupBy(['Primary Type']).count()\n",
    "#crime_table_data.to_sql('crimestable', conn, schema=None, if_exists='fail', index=True, index_label=None, chunksize=None, dtype=None)"
   ]
  },
  {
   "cell_type": "code",
   "execution_count": 28,
   "metadata": {},
   "outputs": [
    {
     "name": "stdout",
     "output_type": "stream",
     "text": [
      "+--------------------+-----+\n",
      "|        Primary Type|count|\n",
      "+--------------------+-----+\n",
      "|OFFENSE INVOLVING...|   42|\n",
      "|            STALKING|    7|\n",
      "|PUBLIC PEACE VIOL...|   34|\n",
      "|               ARSON|    4|\n",
      "|            GAMBLING|    7|\n",
      "|   CRIMINAL TRESPASS|  119|\n",
      "|             ASSAULT|  225|\n",
      "|LIQUOR LAW VIOLATION|   11|\n",
      "| MOTOR VEHICLE THEFT|  186|\n",
      "|               THEFT|  918|\n",
      "|             BATTERY|  793|\n",
      "|             ROBBERY|  142|\n",
      "| CRIM SEXUAL ASSAULT|   14|\n",
      "|        PROSTITUTION|   94|\n",
      "|  DECEPTIVE PRACTICE|  215|\n",
      "|         SEX OFFENSE|    9|\n",
      "|     CRIMINAL DAMAGE|  522|\n",
      "|           NARCOTICS|  732|\n",
      "|       OTHER OFFENSE|  282|\n",
      "|          KIDNAPPING|    1|\n",
      "+--------------------+-----+\n",
      "only showing top 20 rows\n",
      "\n"
     ]
    }
   ],
   "source": [
    "crime_table_data.show()"
   ]
  },
  {
   "cell_type": "code",
   "execution_count": 29,
   "metadata": {},
   "outputs": [],
   "source": [
    "import mysql.connector"
   ]
  },
  {
   "cell_type": "code",
   "execution_count": 53,
   "metadata": {},
   "outputs": [],
   "source": [
    "mydb = mysql.connector.connect(\n",
    "  host=\"35.192.215.142\",\n",
    "  user=\"root\",\n",
    "  passwd=\"XXXXXX\",\n",
    "    database=\"crimedb\"\n",
    ")\n",
    "mycursor = mydb.cursor()"
   ]
  },
  {
   "cell_type": "code",
   "execution_count": 44,
   "metadata": {},
   "outputs": [],
   "source": [
    "\n",
    "mycursor.execute(\"DROP TABLE crimestable\")\n",
    "mycursor.execute(\"CREATE TABLE crimestable (crime VARCHAR(255), count int)\")"
   ]
  },
  {
   "cell_type": "code",
   "execution_count": 45,
   "metadata": {},
   "outputs": [
    {
     "data": {
      "text/plain": [
       "['Primary Type', 'count']"
      ]
     },
     "execution_count": 45,
     "metadata": {},
     "output_type": "execute_result"
    }
   ],
   "source": [
    "crime_table_data.columns"
   ]
  },
  {
   "cell_type": "code",
   "execution_count": 48,
   "metadata": {
    "scrolled": true
   },
   "outputs": [
    {
     "name": "stdout",
     "output_type": "stream",
     "text": [
      "INSERT INTO crimestable (crime, count) VALUES (OFFENSE INVOLVING CHILDREN,42)\n",
      "INSERT INTO crimestable (crime, count) VALUES (STALKING,7)\n",
      "INSERT INTO crimestable (crime, count) VALUES (PUBLIC PEACE VIOLATION,34)\n",
      "INSERT INTO crimestable (crime, count) VALUES (ARSON,4)\n",
      "INSERT INTO crimestable (crime, count) VALUES (GAMBLING,7)\n",
      "INSERT INTO crimestable (crime, count) VALUES (CRIMINAL TRESPASS,119)\n",
      "INSERT INTO crimestable (crime, count) VALUES (ASSAULT,225)\n",
      "INSERT INTO crimestable (crime, count) VALUES (LIQUOR LAW VIOLATION,11)\n",
      "INSERT INTO crimestable (crime, count) VALUES (MOTOR VEHICLE THEFT,186)\n",
      "INSERT INTO crimestable (crime, count) VALUES (THEFT,918)\n",
      "INSERT INTO crimestable (crime, count) VALUES (BATTERY,793)\n",
      "INSERT INTO crimestable (crime, count) VALUES (ROBBERY,142)\n",
      "INSERT INTO crimestable (crime, count) VALUES (CRIM SEXUAL ASSAULT,14)\n",
      "INSERT INTO crimestable (crime, count) VALUES (PROSTITUTION,94)\n",
      "INSERT INTO crimestable (crime, count) VALUES (DECEPTIVE PRACTICE,215)\n",
      "INSERT INTO crimestable (crime, count) VALUES (SEX OFFENSE,9)\n",
      "INSERT INTO crimestable (crime, count) VALUES (CRIMINAL DAMAGE,522)\n",
      "INSERT INTO crimestable (crime, count) VALUES (NARCOTICS,732)\n",
      "INSERT INTO crimestable (crime, count) VALUES (OTHER OFFENSE,282)\n",
      "INSERT INTO crimestable (crime, count) VALUES (KIDNAPPING,1)\n",
      "INSERT INTO crimestable (crime, count) VALUES (BURGLARY,230)\n",
      "INSERT INTO crimestable (crime, count) VALUES (WEAPONS VIOLATION,42)\n",
      "INSERT INTO crimestable (crime, count) VALUES (INTERFERENCE WITH PUBLIC OFFICER,8)\n"
     ]
    }
   ],
   "source": [
    "for crime in crime_table_data.rdd.collect():\n",
    "    sql = \"INSERT INTO crimestable (crime, count) VALUES \" + \"(\" +  crime['Primary Type'] + \",\" + str(crime['count']) + \")\"\n",
    "    print (sql)\n"
   ]
  },
  {
   "cell_type": "code",
   "execution_count": 58,
   "metadata": {},
   "outputs": [],
   "source": [
    "for crime in crime_table_data.rdd.collect():\n",
    "    sql = \"INSERT INTO ammar (crime, count) VALUES (%s, %s)\"\n",
    "    val = (crime['Primary Type'], crime['count'])\n",
    "    mycursor.execute(sql, val)\n",
    "\n",
    "mydb.commit()"
   ]
  },
  {
   "cell_type": "code",
   "execution_count": null,
   "metadata": {},
   "outputs": [],
   "source": []
  },
  {
   "cell_type": "code",
   "execution_count": null,
   "metadata": {},
   "outputs": [],
   "source": []
  }
 ],
 "metadata": {
  "kernelspec": {
   "display_name": "Python 3",
   "language": "python",
   "name": "python3"
  },
  "language_info": {
   "codemirror_mode": {
    "name": "ipython",
    "version": 3
   },
   "file_extension": ".py",
   "mimetype": "text/x-python",
   "name": "python",
   "nbconvert_exporter": "python",
   "pygments_lexer": "ipython3",
   "version": "3.6.5"
  }
 },
 "nbformat": 4,
 "nbformat_minor": 2
}
