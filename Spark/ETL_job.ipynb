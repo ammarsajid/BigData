{
 "cells": [
  {
   "cell_type": "code",
   "execution_count": 4,
   "metadata": {},
   "outputs": [],
   "source": [
    "import pandas as pd\n",
    "import gcsfs as gcs\n",
    "from pyspark import SparkContext\n",
    "from pyspark.sql import SQLContext"
   ]
  },
  {
   "cell_type": "code",
   "execution_count": 5,
   "metadata": {},
   "outputs": [],
   "source": [
    "#data = pd.read_csv('s3://zengageprodadminapp/crimes_sample.csv')\n",
    "data = pd.read_csv('gs://bigdatahw2/crimes_sample.csv')"
   ]
  },
  {
   "cell_type": "code",
   "execution_count": 6,
   "metadata": {},
   "outputs": [],
   "source": [
    "sc = SparkContext('local','test')\n",
    "sqlcont = SQLContext(sc)"
   ]
  },
  {
   "cell_type": "code",
   "execution_count": 7,
   "metadata": {},
   "outputs": [],
   "source": [
    "data_sc = sqlcont.createDataFrame(data)"
   ]
  },
  {
   "cell_type": "code",
   "execution_count": 8,
   "metadata": {},
   "outputs": [
    {
     "data": {
      "text/plain": [
       "DataFrame[summary: string, ID: string, Case Number: string, Date: string, Block: string, IUCR: string, Primary Type: string, Description: string, Location Description: string, Beat: string, District: string, Ward: string, Community Area: string, FBI Code: string, X Coordinate: string, Y Coordinate: string, Year: string, Updated On: string, Latitude: string, Longitude: string, Location: string]"
      ]
     },
     "execution_count": 8,
     "metadata": {},
     "output_type": "execute_result"
    }
   ],
   "source": [
    "data_sc.describe()"
   ]
  },
  {
   "cell_type": "code",
   "execution_count": 9,
   "metadata": {
    "scrolled": true
   },
   "outputs": [
    {
     "data": {
      "text/plain": [
       "(9999, 22)"
      ]
     },
     "execution_count": 9,
     "metadata": {},
     "output_type": "execute_result"
    }
   ],
   "source": [
    "data.shape"
   ]
  },
  {
   "cell_type": "code",
   "execution_count": 10,
   "metadata": {},
   "outputs": [],
   "source": [
    "data_2007 = data[data['Year']==2007]"
   ]
  },
  {
   "cell_type": "code",
   "execution_count": 11,
   "metadata": {},
   "outputs": [
    {
     "data": {
      "text/html": [
       "<div>\n",
       "<style scoped>\n",
       "    .dataframe tbody tr th:only-of-type {\n",
       "        vertical-align: middle;\n",
       "    }\n",
       "\n",
       "    .dataframe tbody tr th {\n",
       "        vertical-align: top;\n",
       "    }\n",
       "\n",
       "    .dataframe thead th {\n",
       "        text-align: right;\n",
       "    }\n",
       "</style>\n",
       "<table border=\"1\" class=\"dataframe\">\n",
       "  <thead>\n",
       "    <tr style=\"text-align: right;\">\n",
       "      <th></th>\n",
       "      <th>ID</th>\n",
       "      <th>Beat</th>\n",
       "      <th>District</th>\n",
       "      <th>Ward</th>\n",
       "      <th>Community Area</th>\n",
       "      <th>X Coordinate</th>\n",
       "      <th>Y Coordinate</th>\n",
       "      <th>Year</th>\n",
       "      <th>Latitude</th>\n",
       "      <th>Longitude</th>\n",
       "    </tr>\n",
       "  </thead>\n",
       "  <tbody>\n",
       "    <tr>\n",
       "      <th>count</th>\n",
       "      <td>4.637000e+03</td>\n",
       "      <td>4637.000000</td>\n",
       "      <td>4637.000000</td>\n",
       "      <td>4637.000000</td>\n",
       "      <td>4635.00000</td>\n",
       "      <td>4.637000e+03</td>\n",
       "      <td>4.637000e+03</td>\n",
       "      <td>4637.0</td>\n",
       "      <td>4637.000000</td>\n",
       "      <td>4637.000000</td>\n",
       "    </tr>\n",
       "    <tr>\n",
       "      <th>mean</th>\n",
       "      <td>5.995343e+06</td>\n",
       "      <td>1105.449429</td>\n",
       "      <td>10.471641</td>\n",
       "      <td>21.516066</td>\n",
       "      <td>39.84315</td>\n",
       "      <td>1.164196e+06</td>\n",
       "      <td>1.882003e+06</td>\n",
       "      <td>2007.0</td>\n",
       "      <td>41.831822</td>\n",
       "      <td>-87.673090</td>\n",
       "    </tr>\n",
       "    <tr>\n",
       "      <th>std</th>\n",
       "      <td>5.830378e+03</td>\n",
       "      <td>652.100461</td>\n",
       "      <td>6.392732</td>\n",
       "      <td>13.099573</td>\n",
       "      <td>21.24276</td>\n",
       "      <td>1.629498e+04</td>\n",
       "      <td>3.034635e+04</td>\n",
       "      <td>0.0</td>\n",
       "      <td>0.083463</td>\n",
       "      <td>0.059326</td>\n",
       "    </tr>\n",
       "    <tr>\n",
       "      <th>min</th>\n",
       "      <td>5.988306e+06</td>\n",
       "      <td>111.000000</td>\n",
       "      <td>1.000000</td>\n",
       "      <td>1.000000</td>\n",
       "      <td>0.00000</td>\n",
       "      <td>1.098012e+06</td>\n",
       "      <td>1.813910e+06</td>\n",
       "      <td>2007.0</td>\n",
       "      <td>41.644608</td>\n",
       "      <td>-87.915105</td>\n",
       "    </tr>\n",
       "    <tr>\n",
       "      <th>25%</th>\n",
       "      <td>5.990500e+06</td>\n",
       "      <td>623.000000</td>\n",
       "      <td>6.000000</td>\n",
       "      <td>9.000000</td>\n",
       "      <td>25.00000</td>\n",
       "      <td>1.151645e+06</td>\n",
       "      <td>1.855965e+06</td>\n",
       "      <td>2007.0</td>\n",
       "      <td>41.760100</td>\n",
       "      <td>-87.718588</td>\n",
       "    </tr>\n",
       "    <tr>\n",
       "      <th>50%</th>\n",
       "      <td>5.993468e+06</td>\n",
       "      <td>932.000000</td>\n",
       "      <td>9.000000</td>\n",
       "      <td>21.000000</td>\n",
       "      <td>38.00000</td>\n",
       "      <td>1.166063e+06</td>\n",
       "      <td>1.879297e+06</td>\n",
       "      <td>2007.0</td>\n",
       "      <td>41.824550</td>\n",
       "      <td>-87.665895</td>\n",
       "    </tr>\n",
       "    <tr>\n",
       "      <th>75%</th>\n",
       "      <td>5.999302e+06</td>\n",
       "      <td>1533.000000</td>\n",
       "      <td>15.000000</td>\n",
       "      <td>30.000000</td>\n",
       "      <td>61.00000</td>\n",
       "      <td>1.176685e+06</td>\n",
       "      <td>1.905309e+06</td>\n",
       "      <td>2007.0</td>\n",
       "      <td>41.895878</td>\n",
       "      <td>-87.627512</td>\n",
       "    </tr>\n",
       "    <tr>\n",
       "      <th>max</th>\n",
       "      <td>6.009574e+06</td>\n",
       "      <td>2535.000000</td>\n",
       "      <td>25.000000</td>\n",
       "      <td>50.000000</td>\n",
       "      <td>77.00000</td>\n",
       "      <td>1.203514e+06</td>\n",
       "      <td>1.950679e+06</td>\n",
       "      <td>2007.0</td>\n",
       "      <td>42.020285</td>\n",
       "      <td>-87.530509</td>\n",
       "    </tr>\n",
       "  </tbody>\n",
       "</table>\n",
       "</div>"
      ],
      "text/plain": [
       "                 ID         Beat     District         Ward  Community Area  \\\n",
       "count  4.637000e+03  4637.000000  4637.000000  4637.000000      4635.00000   \n",
       "mean   5.995343e+06  1105.449429    10.471641    21.516066        39.84315   \n",
       "std    5.830378e+03   652.100461     6.392732    13.099573        21.24276   \n",
       "min    5.988306e+06   111.000000     1.000000     1.000000         0.00000   \n",
       "25%    5.990500e+06   623.000000     6.000000     9.000000        25.00000   \n",
       "50%    5.993468e+06   932.000000     9.000000    21.000000        38.00000   \n",
       "75%    5.999302e+06  1533.000000    15.000000    30.000000        61.00000   \n",
       "max    6.009574e+06  2535.000000    25.000000    50.000000        77.00000   \n",
       "\n",
       "       X Coordinate  Y Coordinate    Year     Latitude    Longitude  \n",
       "count  4.637000e+03  4.637000e+03  4637.0  4637.000000  4637.000000  \n",
       "mean   1.164196e+06  1.882003e+06  2007.0    41.831822   -87.673090  \n",
       "std    1.629498e+04  3.034635e+04     0.0     0.083463     0.059326  \n",
       "min    1.098012e+06  1.813910e+06  2007.0    41.644608   -87.915105  \n",
       "25%    1.151645e+06  1.855965e+06  2007.0    41.760100   -87.718588  \n",
       "50%    1.166063e+06  1.879297e+06  2007.0    41.824550   -87.665895  \n",
       "75%    1.176685e+06  1.905309e+06  2007.0    41.895878   -87.627512  \n",
       "max    1.203514e+06  1.950679e+06  2007.0    42.020285   -87.530509  "
      ]
     },
     "execution_count": 11,
     "metadata": {},
     "output_type": "execute_result"
    }
   ],
   "source": [
    "data_2007.describe()"
   ]
  },
  {
   "cell_type": "code",
   "execution_count": 12,
   "metadata": {},
   "outputs": [],
   "source": [
    "crime_table_data = data_2007.groupby(['Primary Type']).size()\n",
    "#crime_table_data.to_sql('crimestable', conn, schema=None, if_exists='fail', index=True, index_label=None, chunksize=None, dtype=None)"
   ]
  },
  {
   "cell_type": "code",
   "execution_count": 13,
   "metadata": {},
   "outputs": [],
   "source": [
    "import mysql.connector"
   ]
  },
  {
   "cell_type": "code",
   "execution_count": 14,
   "metadata": {},
   "outputs": [],
   "source": [
    "mydb = mysql.connector.connect(\n",
    "  host=\"35.192.215.142\",\n",
    "  user=\"root\",\n",
    "  passwd=\"XXXXXX\",\n",
    "    database=\"crimedb\"\n",
    ")"
   ]
  },
  {
   "cell_type": "code",
   "execution_count": 15,
   "metadata": {},
   "outputs": [
    {
     "ename": "ProgrammingError",
     "evalue": "1050 (42S01): Table 'crimestable' already exists",
     "output_type": "error",
     "traceback": [
      "\u001b[1;31m---------------------------------------------------------------------------\u001b[0m",
      "\u001b[1;31mProgrammingError\u001b[0m                          Traceback (most recent call last)",
      "\u001b[1;32m<ipython-input-15-3fb4b2406724>\u001b[0m in \u001b[0;36m<module>\u001b[1;34m()\u001b[0m\n\u001b[0;32m      1\u001b[0m \u001b[0mmycursor\u001b[0m \u001b[1;33m=\u001b[0m \u001b[0mmydb\u001b[0m\u001b[1;33m.\u001b[0m\u001b[0mcursor\u001b[0m\u001b[1;33m(\u001b[0m\u001b[1;33m)\u001b[0m\u001b[1;33m\u001b[0m\u001b[0m\n\u001b[1;32m----> 2\u001b[1;33m \u001b[0mmycursor\u001b[0m\u001b[1;33m.\u001b[0m\u001b[0mexecute\u001b[0m\u001b[1;33m(\u001b[0m\u001b[1;34m\"CREATE TABLE crimestable (crime VARCHAR(255), count int)\"\u001b[0m\u001b[1;33m)\u001b[0m\u001b[1;33m\u001b[0m\u001b[0m\n\u001b[0m",
      "\u001b[1;32mC:\\Users\\ammar\\Anaconda3\\lib\\site-packages\\mysql\\connector\\cursor.py\u001b[0m in \u001b[0;36mexecute\u001b[1;34m(self, operation, params, multi)\u001b[0m\n\u001b[0;32m    549\u001b[0m         \u001b[1;32melse\u001b[0m\u001b[1;33m:\u001b[0m\u001b[1;33m\u001b[0m\u001b[0m\n\u001b[0;32m    550\u001b[0m             \u001b[1;32mtry\u001b[0m\u001b[1;33m:\u001b[0m\u001b[1;33m\u001b[0m\u001b[0m\n\u001b[1;32m--> 551\u001b[1;33m                 \u001b[0mself\u001b[0m\u001b[1;33m.\u001b[0m\u001b[0m_handle_result\u001b[0m\u001b[1;33m(\u001b[0m\u001b[0mself\u001b[0m\u001b[1;33m.\u001b[0m\u001b[0m_connection\u001b[0m\u001b[1;33m.\u001b[0m\u001b[0mcmd_query\u001b[0m\u001b[1;33m(\u001b[0m\u001b[0mstmt\u001b[0m\u001b[1;33m)\u001b[0m\u001b[1;33m)\u001b[0m\u001b[1;33m\u001b[0m\u001b[0m\n\u001b[0m\u001b[0;32m    552\u001b[0m             \u001b[1;32mexcept\u001b[0m \u001b[0merrors\u001b[0m\u001b[1;33m.\u001b[0m\u001b[0mInterfaceError\u001b[0m\u001b[1;33m:\u001b[0m\u001b[1;33m\u001b[0m\u001b[0m\n\u001b[0;32m    553\u001b[0m                 \u001b[1;32mif\u001b[0m \u001b[0mself\u001b[0m\u001b[1;33m.\u001b[0m\u001b[0m_connection\u001b[0m\u001b[1;33m.\u001b[0m\u001b[0m_have_next_result\u001b[0m\u001b[1;33m:\u001b[0m  \u001b[1;31m# pylint: disable=W0212\u001b[0m\u001b[1;33m\u001b[0m\u001b[0m\n",
      "\u001b[1;32mC:\\Users\\ammar\\Anaconda3\\lib\\site-packages\\mysql\\connector\\connection.py\u001b[0m in \u001b[0;36mcmd_query\u001b[1;34m(self, query, raw, buffered, raw_as_string)\u001b[0m\n\u001b[0;32m    488\u001b[0m         \u001b[1;32mif\u001b[0m \u001b[1;32mnot\u001b[0m \u001b[0misinstance\u001b[0m\u001b[1;33m(\u001b[0m\u001b[0mquery\u001b[0m\u001b[1;33m,\u001b[0m \u001b[0mbytes\u001b[0m\u001b[1;33m)\u001b[0m\u001b[1;33m:\u001b[0m\u001b[1;33m\u001b[0m\u001b[0m\n\u001b[0;32m    489\u001b[0m             \u001b[0mquery\u001b[0m \u001b[1;33m=\u001b[0m \u001b[0mquery\u001b[0m\u001b[1;33m.\u001b[0m\u001b[0mencode\u001b[0m\u001b[1;33m(\u001b[0m\u001b[1;34m'utf-8'\u001b[0m\u001b[1;33m)\u001b[0m\u001b[1;33m\u001b[0m\u001b[0m\n\u001b[1;32m--> 490\u001b[1;33m         \u001b[0mresult\u001b[0m \u001b[1;33m=\u001b[0m \u001b[0mself\u001b[0m\u001b[1;33m.\u001b[0m\u001b[0m_handle_result\u001b[0m\u001b[1;33m(\u001b[0m\u001b[0mself\u001b[0m\u001b[1;33m.\u001b[0m\u001b[0m_send_cmd\u001b[0m\u001b[1;33m(\u001b[0m\u001b[0mServerCmd\u001b[0m\u001b[1;33m.\u001b[0m\u001b[0mQUERY\u001b[0m\u001b[1;33m,\u001b[0m \u001b[0mquery\u001b[0m\u001b[1;33m)\u001b[0m\u001b[1;33m)\u001b[0m\u001b[1;33m\u001b[0m\u001b[0m\n\u001b[0m\u001b[0;32m    491\u001b[0m \u001b[1;33m\u001b[0m\u001b[0m\n\u001b[0;32m    492\u001b[0m         \u001b[1;32mif\u001b[0m \u001b[0mself\u001b[0m\u001b[1;33m.\u001b[0m\u001b[0m_have_next_result\u001b[0m\u001b[1;33m:\u001b[0m\u001b[1;33m\u001b[0m\u001b[0m\n",
      "\u001b[1;32mC:\\Users\\ammar\\Anaconda3\\lib\\site-packages\\mysql\\connector\\connection.py\u001b[0m in \u001b[0;36m_handle_result\u001b[1;34m(self, packet)\u001b[0m\n\u001b[0;32m    393\u001b[0m             \u001b[1;32mreturn\u001b[0m \u001b[0mself\u001b[0m\u001b[1;33m.\u001b[0m\u001b[0m_handle_eof\u001b[0m\u001b[1;33m(\u001b[0m\u001b[0mpacket\u001b[0m\u001b[1;33m)\u001b[0m\u001b[1;33m\u001b[0m\u001b[0m\n\u001b[0;32m    394\u001b[0m         \u001b[1;32melif\u001b[0m \u001b[0mpacket\u001b[0m\u001b[1;33m[\u001b[0m\u001b[1;36m4\u001b[0m\u001b[1;33m]\u001b[0m \u001b[1;33m==\u001b[0m \u001b[1;36m255\u001b[0m\u001b[1;33m:\u001b[0m\u001b[1;33m\u001b[0m\u001b[0m\n\u001b[1;32m--> 395\u001b[1;33m             \u001b[1;32mraise\u001b[0m \u001b[0merrors\u001b[0m\u001b[1;33m.\u001b[0m\u001b[0mget_exception\u001b[0m\u001b[1;33m(\u001b[0m\u001b[0mpacket\u001b[0m\u001b[1;33m)\u001b[0m\u001b[1;33m\u001b[0m\u001b[0m\n\u001b[0m\u001b[0;32m    396\u001b[0m \u001b[1;33m\u001b[0m\u001b[0m\n\u001b[0;32m    397\u001b[0m         \u001b[1;31m# We have a text result set\u001b[0m\u001b[1;33m\u001b[0m\u001b[1;33m\u001b[0m\u001b[0m\n",
      "\u001b[1;31mProgrammingError\u001b[0m: 1050 (42S01): Table 'crimestable' already exists"
     ]
    }
   ],
   "source": [
    "mycursor = mydb.cursor()\n",
    "mycursor.execute(\"CREATE TABLE crimestable (crime VARCHAR(255), count int)\")"
   ]
  },
  {
   "cell_type": "code",
   "execution_count": 20,
   "metadata": {
    "scrolled": true
   },
   "outputs": [
    {
     "name": "stdout",
     "output_type": "stream",
     "text": [
      "INSERT INTO crimestable (crime, count) VALUES (ARSON,4)\n",
      "INSERT INTO crimestable (crime, count) VALUES (ASSAULT,225)\n",
      "INSERT INTO crimestable (crime, count) VALUES (BATTERY,793)\n",
      "INSERT INTO crimestable (crime, count) VALUES (BURGLARY,230)\n",
      "INSERT INTO crimestable (crime, count) VALUES (CRIM SEXUAL ASSAULT,14)\n",
      "INSERT INTO crimestable (crime, count) VALUES (CRIMINAL DAMAGE,522)\n",
      "INSERT INTO crimestable (crime, count) VALUES (CRIMINAL TRESPASS,119)\n",
      "INSERT INTO crimestable (crime, count) VALUES (DECEPTIVE PRACTICE,215)\n",
      "INSERT INTO crimestable (crime, count) VALUES (GAMBLING,7)\n",
      "INSERT INTO crimestable (crime, count) VALUES (INTERFERENCE WITH PUBLIC OFFICER,8)\n",
      "INSERT INTO crimestable (crime, count) VALUES (KIDNAPPING,1)\n",
      "INSERT INTO crimestable (crime, count) VALUES (LIQUOR LAW VIOLATION,11)\n",
      "INSERT INTO crimestable (crime, count) VALUES (MOTOR VEHICLE THEFT,186)\n",
      "INSERT INTO crimestable (crime, count) VALUES (NARCOTICS,732)\n",
      "INSERT INTO crimestable (crime, count) VALUES (OFFENSE INVOLVING CHILDREN,42)\n",
      "INSERT INTO crimestable (crime, count) VALUES (OTHER OFFENSE,282)\n",
      "INSERT INTO crimestable (crime, count) VALUES (PROSTITUTION,94)\n",
      "INSERT INTO crimestable (crime, count) VALUES (PUBLIC PEACE VIOLATION,34)\n",
      "INSERT INTO crimestable (crime, count) VALUES (ROBBERY,142)\n",
      "INSERT INTO crimestable (crime, count) VALUES (SEX OFFENSE,9)\n",
      "INSERT INTO crimestable (crime, count) VALUES (STALKING,7)\n",
      "INSERT INTO crimestable (crime, count) VALUES (THEFT,918)\n",
      "INSERT INTO crimestable (crime, count) VALUES (WEAPONS VIOLATION,42)\n"
     ]
    }
   ],
   "source": [
    "for crime,count in zip (df_crime_table['Primary Type'], df_crime_table[0]):\n",
    "    sql = \"INSERT INTO crimestable (crime, count) VALUES \" + \"(\" +  crime + \",\" + str(count) + \")\"\n",
    "    print (sql)\n"
   ]
  },
  {
   "cell_type": "code",
   "execution_count": 18,
   "metadata": {},
   "outputs": [],
   "source": [
    "df_crime_table = crime_table_data.to_frame().reset_index()"
   ]
  },
  {
   "cell_type": "code",
   "execution_count": 19,
   "metadata": {},
   "outputs": [],
   "source": [
    "for crime,count in zip (df_crime_table['Primary Type'], df_crime_table[0]):\n",
    "    sql = \"INSERT INTO crimestable (crime, count) VALUES (%s, %s)\"\n",
    "    val = (crime, count)\n",
    "    mycursor.execute(sql, val)\n",
    "\n",
    "mydb.commit()"
   ]
  },
  {
   "cell_type": "code",
   "execution_count": null,
   "metadata": {},
   "outputs": [],
   "source": []
  }
 ],
 "metadata": {
  "kernelspec": {
   "display_name": "Python 3",
   "language": "python",
   "name": "python3"
  },
  "language_info": {
   "codemirror_mode": {
    "name": "ipython",
    "version": 3
   },
   "file_extension": ".py",
   "mimetype": "text/x-python",
   "name": "python",
   "nbconvert_exporter": "python",
   "pygments_lexer": "ipython3",
   "version": "3.6.5"
  }
 },
 "nbformat": 4,
 "nbformat_minor": 2
}
